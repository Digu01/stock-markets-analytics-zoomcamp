{
  "nbformat": 4,
  "nbformat_minor": 0,
  "metadata": {
    "colab": {
      "provenance": [],
      "authorship_tag": "ABX9TyO6th7HpdHWAFGrpOQEsLIf",
      "include_colab_link": true
    },
    "kernelspec": {
      "name": "python3",
      "display_name": "Python 3"
    },
    "language_info": {
      "name": "python"
    }
  },
  "cells": [
    {
      "cell_type": "markdown",
      "metadata": {
        "id": "view-in-github",
        "colab_type": "text"
      },
      "source": [
        "<a href=\"https://colab.research.google.com/github/Digu01/stock-markets-analytics-zoomcamp/blob/main/Stock%20Market%20Analysis_week1.ipynb\" target=\"_parent\"><img src=\"https://colab.research.google.com/assets/colab-badge.svg\" alt=\"Open In Colab\"/></a>"
      ]
    },
    {
      "cell_type": "code",
      "execution_count": null,
      "metadata": {
        "id": "Uw8TXqrNfgPh"
      },
      "outputs": [],
      "source": []
    },
    {
      "cell_type": "markdown",
      "source": [
        "Module 1 Homework\n",
        "In this homework, we're going to download finance data from various sources and make simple calculations/analysis.\n"
      ],
      "metadata": {
        "id": "7eSrPLYwfnoz"
      }
    },
    {
      "cell_type": "code",
      "source": [
        "import time\n",
        "import pytz\n",
        "from datetime import date, datetime, timedelta\n",
        "\n",
        "import numpy as np\n",
        "import pandas as pd\n",
        "import yfinance as yf\n",
        "\n",
        "import matplotlib.pyplot as plt\n",
        "import matplotlib.ticker as mtick\n",
        "import pandas_datareader as pdr\n",
        "import plotly.graph_objs as go\n",
        "import plotly.express as px\n",
        "\n",
        "# Set the timezone\n",
        "utc = pytz.UTC"
      ],
      "metadata": {
        "id": "JAEI8OzRfxwY"
      },
      "execution_count": 1,
      "outputs": []
    },
    {
      "cell_type": "markdown",
      "source": [
        "Question 1: [Macro] Average growth of GDP in 2023\n",
        "What is the average growth (in %) of GDP in 2023?\n",
        "\n",
        "Download the timeseries Real Gross Domestic Product (GDPC1) from FRED (https://fred.stlouisfed.org/series/GDPC1). Calculate year-over-year (YoY) growth rate (that is, divide current value to one 4 quarters ago). Find the average YoY growth in 2023 (average from 4 YoY numbers). Round to 1 digit after the decimal point: e.g. if you get 5.66% growth => you should answer 5.7"
      ],
      "metadata": {
        "id": "mH7Zwyg0f4dC"
      }
    },
    {
      "cell_type": "code",
      "source": [
        "# Get the current date\n",
        "end = date.today()\n",
        "print(f'Year = {end.year}; month= {end.month}; day={end.day}')\n",
        "\n",
        "# Set the start date to 70 years ago\n",
        "start = date(year=end.year-70, month=end.month, day=end.day)\n",
        "print(f'Period for indexes: {start} to {end} ')\n",
        "\n",
        "# Fetch the GDPC1 data from FRED\n",
        "gdpc1 = pdr.DataReader(\"GDPC1\", \"fred\", start=start)\n",
        "\n",
        "# Calculate the YoY growth rate\n",
        "gdpc1['YoY_Growth'] = gdpc1['GDPC1'].pct_change(periods=4) * 100\n",
        "\n",
        "# Calculate the average YoY growth rate for 2023\n",
        "avg_yoy_2023 = gdpc1.loc['2023-01-01':'2023-12-31', 'YoY_Growth'].mean()\n",
        "\n",
        "print(f\"The average YoY growth rate in 2023 is: {avg_yoy_2023:.1f}%\")"
      ],
      "metadata": {
        "colab": {
          "base_uri": "https://localhost:8080/"
        },
        "id": "nhSnRJH_f6Oq",
        "outputId": "0acc63d9-8dba-4194-fef4-d234a9a37f03"
      },
      "execution_count": 2,
      "outputs": [
        {
          "output_type": "stream",
          "name": "stdout",
          "text": [
            "Year = 2024; month= 4; day=24\n",
            "Period for indexes: 1954-04-24 to 2024-04-24 \n",
            "The average YoY growth rate in 2023 is: 2.5%\n"
          ]
        }
      ]
    },
    {
      "cell_type": "markdown",
      "source": [
        "Question 2. [Macro] Inverse \"Treasury Yield\"\n",
        "Find the min value of (dgs10-dgs2) after since year 2000 (2000-01-01) and write it down as an answer, round to 1 digit after the decimal point.\n",
        "\n",
        "Download DGS2 and DGS10 interest rates series (https://fred.stlouisfed.org/series/DGS2, https://fred.stlouisfed.org/series/DGS10). Join them together to one dataframe on date (you might need to read about pandas.DataFrame.join()), calculate the difference dgs10-dgs2 daily.\n",
        "\n",
        "(Additional: think about what does the \"inverted yield curve\" mean for the market and investors? do you see the same thing in your country/market of interest? Do you think it can be a good predictive feature for the models?)"
      ],
      "metadata": {
        "id": "cl6zrY1VgQ6A"
      }
    },
    {
      "cell_type": "code",
      "source": [
        "# Fetch the DGS2 and DGS10 data from FRED\n",
        "start = date(2000, 1, 1)\n",
        "dgs2 = pdr.DataReader(\"DGS2\", \"fred\", start=start, end=end)\n",
        "dgs10 = pdr.DataReader(\"DGS10\", \"fred\", start=start, end=end)\n",
        "\n",
        "# Calculate the difference between DGS2 and DGS10\n",
        "df = pd.concat([dgs2, dgs10], axis=1)\n",
        "df['Difference'] = df['DGS10'] - df['DGS2']\n",
        "\n",
        "# Find the minimum value of the difference, rounded to 1 decimal place\n",
        "min_difference = round(df['Difference'].min(), 1)\n",
        "\n",
        "print(f\"The minimum value of (DGS10 - DGS2) since 2000-01-01 is: {min_difference}\")"
      ],
      "metadata": {
        "colab": {
          "base_uri": "https://localhost:8080/"
        },
        "id": "_yqQkmpygDf_",
        "outputId": "062be861-75c3-45d5-99c5-6271f6827f05"
      },
      "execution_count": 3,
      "outputs": [
        {
          "output_type": "stream",
          "name": "stdout",
          "text": [
            "The minimum value of (DGS10 - DGS2) since 2000-01-01 is: -1.1\n"
          ]
        }
      ]
    },
    {
      "cell_type": "markdown",
      "source": [
        "Question 3. [Index] Which Index is better recently?\n",
        "Compare S&P 500 and IPC Mexico indexes by the 5 year growth and write down the largest value as an answer (%)\n",
        "\n",
        "Download on Yahoo Finance two daily index prices for S&P 500 (^GSPC, https://finance.yahoo.com/quote/%5EGSPC/) and IPC Mexico (^MXX, https://finance.yahoo.com/quote/%5EMXX/). Compare 5Y growth for both (between 2019-04-09 and 2024-04-09). Select the higher growing index and write down the growth in % (closest integer %). E.g. if ratio end/start was 2.0925 (or growth of 109.25%), you need to write down 109 as your answer.\n",
        "\n",
        "(Additional: think of other indexes and try to download stats and compare the growth? Do create 10Y and 20Y growth stats. What is an average yearly growth rate (CAGR) for each of the indexes you select?)"
      ],
      "metadata": {
        "id": "D4jyTtDHga7g"
      }
    },
    {
      "cell_type": "code",
      "source": [
        "# Download S&P 500 index data\n",
        "sp500 = yf.Ticker(\"^GSPC\")\n",
        "sp500_data = sp500.history(start=\"2019-04-09\", end=\"2024-04-09\")\n",
        "\n",
        "# Download IPC Mexico index data\n",
        "ipc_mexico = yf.Ticker(\"^MXX\")\n",
        "ipc_mexico_data = ipc_mexico.history(start=\"2019-04-09\", end=\"2024-04-09\")\n",
        "\n",
        "# Calculate 5-year growth\n",
        "sp500_growth = (sp500_data['Close'].iloc[-1] / sp500_data['Close'].iloc[0]) - 1\n",
        "ipc_mexico_growth = (ipc_mexico_data['Close'].iloc[-1] / ipc_mexico_data['Close'].iloc[0]) - 1\n",
        "\n",
        "# Determine the index with the higher growth\n",
        "if sp500_growth > ipc_mexico_growth:\n",
        "    print(f\"S&P 500 index had the higher 5-year growth at {round(sp500_growth * 100)}%.\")\n",
        "else:\n",
        "    print(f\"IPC Mexico index had the higher 5-year growth at {round(ipc_mexico_growth * 100)}%.\")"
      ],
      "metadata": {
        "colab": {
          "base_uri": "https://localhost:8080/"
        },
        "id": "qaFZd6wpgbyB",
        "outputId": "2bbaf88a-daa1-445a-f136-2a7a48a44530"
      },
      "execution_count": 6,
      "outputs": [
        {
          "output_type": "stream",
          "name": "stdout",
          "text": [
            "S&P 500 index had the higher 5-year growth at 81%.\n"
          ]
        }
      ]
    },
    {
      "cell_type": "markdown",
      "source": [
        "Additional"
      ],
      "metadata": {
        "id": "N022Vs0Pgk_f"
      }
    },
    {
      "cell_type": "code",
      "source": [
        "# Define the indexes to analyze\n",
        "indexes = [\n",
        "    \"^GSPC\",  # S&P 500\n",
        "    \"^IXIC\",  # Nasdaq Composite\n",
        "    \"^DJI\",   # Dow Jones Industrial Average\n",
        "    \"^FTSE\",  # FTSE 100\n",
        "    \"^GDAXI\", # DAX\n",
        "    \"^N225\"   # Nikkei 225\n",
        "]\n",
        "\n",
        "# Download the historical data for each index\n",
        "data = {}\n",
        "for index in indexes:\n",
        "    ticker = yf.Ticker(index)\n",
        "    data[index] = ticker.history(period=\"max\")\n",
        "\n",
        "# Calculate the 10-year and 20-year CAGR for each index\n",
        "cagr_10y = {}\n",
        "cagr_20y = {}\n",
        "for index, df in data.items():\n",
        "    start_10y = df.index[-251 * 10]\n",
        "    start_20y = df.index[-251 * 20]\n",
        "    end = df.index[-1]\n",
        "\n",
        "    cagr_10y[index] = ((df.loc[end, 'Close'] / df.loc[start_10y, 'Close'])**(1/10)) - 1\n",
        "    cagr_20y[index] = ((df.loc[end, 'Close'] / df.loc[start_20y, 'Close'])**(1/20)) - 1\n",
        "\n",
        "# Print the results\n",
        "print(\"10-year CAGR:\")\n",
        "for index, cagr in cagr_10y.items():\n",
        "    print(f\"{index}: {round(cagr * 100, 2)}%\")\n",
        "\n",
        "print(\"\\n20-year CAGR:\")\n",
        "for index, cagr in cagr_20y.items():\n",
        "    print(f\"{index}: {round(cagr * 100, 2)}%\")"
      ],
      "metadata": {
        "colab": {
          "base_uri": "https://localhost:8080/"
        },
        "id": "gQFXAHX5gmrJ",
        "outputId": "5e19e7b3-1ace-4795-af65-badbaa3a24b8"
      },
      "execution_count": 7,
      "outputs": [
        {
          "output_type": "stream",
          "name": "stdout",
          "text": [
            "10-year CAGR:\n",
            "^GSPC: 10.4%\n",
            "^IXIC: 14.26%\n",
            "^DJI: 8.82%\n",
            "^FTSE: 1.61%\n",
            "^GDAXI: 6.19%\n",
            "^N225: 9.31%\n",
            "\n",
            "20-year CAGR:\n",
            "^GSPC: 7.96%\n",
            "^IXIC: 11.06%\n",
            "^DJI: 6.97%\n",
            "^FTSE: 2.96%\n",
            "^GDAXI: 8.08%\n",
            "^N225: 6.33%\n"
          ]
        }
      ]
    },
    {
      "cell_type": "markdown",
      "source": [
        "Question 4. [Stocks OHLCV] 52-weeks range ratio (2023) for the selected stocks\n",
        "Find the largest range ratio [=(max-min)/max] of Adj.Close prices in 2023\n",
        "\n",
        "Download the 2023 daily OHLCV data on Yahoo Finance for top6 stocks on earnings (https://companiesmarketcap.com/most-profitable-companies/): 2222.SR,BRK-B, AAPL, MSFT, GOOG, JPM.\n",
        "\n",
        "Here is the example data you should see in Pandas for \"2222.SR\": https://finance.yahoo.com/quote/2222.SR/history\n",
        "\n",
        "Calculate maximum-minimim \"Adj.Close\" price for each stock and divide it by the maximum \"Adj.Close\" value. Round the result to two decimal places (e.g. 0.1575 will be 0.16)\n",
        "\n",
        "(Additional: why this may be important for your research?)"
      ],
      "metadata": {
        "id": "kA5oN2wjgsU4"
      }
    },
    {
      "cell_type": "code",
      "source": [
        "# Download the 2023 daily OHLCV data for the 6 stocks\n",
        "tickers = ['2222.SR', 'BRK-B', 'AAPL', 'MSFT', 'GOOG', 'JPM']\n",
        "data = {}\n",
        "for ticker in tickers:\n",
        "    df = yf.download(ticker, start='2023-01-01', end='2023-12-31')\n",
        "    data[ticker] = df\n",
        "\n",
        "# Calculate the range ratio for each stock\n",
        "range_ratios = {}\n",
        "for ticker, df in data.items():\n",
        "    max_price = df['Adj Close'].max()\n",
        "    min_price = df['Adj Close'].min()\n",
        "    range_ratio = round((max_price - min_price) / max_price, 2)\n",
        "    range_ratios[ticker] = range_ratio\n",
        "\n",
        "# Find the largest range ratio\n",
        "largest_range_ratio = max(range_ratios.values())\n",
        "largest_stock = [k for k, v in range_ratios.items() if v == largest_range_ratio][0]\n",
        "\n",
        "print(f\"The stock with the largest 52-week range ratio (2023) is {largest_stock} with a ratio of {largest_range_ratio}\")"
      ],
      "metadata": {
        "colab": {
          "base_uri": "https://localhost:8080/"
        },
        "id": "UGPa-iKLgtMw",
        "outputId": "6a15fac0-cfcf-4122-d945-a920c3eb3147"
      },
      "execution_count": 8,
      "outputs": [
        {
          "output_type": "stream",
          "name": "stderr",
          "text": [
            "[*********************100%%**********************]  1 of 1 completed\n",
            "[*********************100%%**********************]  1 of 1 completed\n",
            "[*********************100%%**********************]  1 of 1 completed\n",
            "[*********************100%%**********************]  1 of 1 completed\n",
            "[*********************100%%**********************]  1 of 1 completed\n",
            "[*********************100%%**********************]  1 of 1 completed"
          ]
        },
        {
          "output_type": "stream",
          "name": "stdout",
          "text": [
            "The stock with the largest 52-week range ratio (2023) is MSFT with a ratio of 0.42\n"
          ]
        },
        {
          "output_type": "stream",
          "name": "stderr",
          "text": [
            "\n"
          ]
        }
      ]
    },
    {
      "cell_type": "markdown",
      "source": [
        "Question 5. [Stocks] Dividend Yield\n",
        "Find the largest dividend yield for the same set of stocks\n",
        "\n",
        "Use the same list of companies (2222.SR,BRK-B, AAPL, MSFT, GOOG, JPM) and download all dividends paid in 2023. You can use get_actions() method or .dividends field in yfinance library (https://github.com/ranaroussi/yfinance?tab=readme-ov-file#quick-start)\n",
        "\n",
        "Sum up all dividends paid in 2023 per company and divide each value by the closing price (Adj.Close) at the last trading day of the year.\n",
        "\n",
        "Find the maximm value in % and round to 1 digit after the decimal point. (E.g., if you obtained\n",
        "100, the dividend yield is 1.25% -- and your answer should be equal to 1.3)"
      ],
      "metadata": {
        "id": "J7BN7c32g3tp"
      }
    },
    {
      "cell_type": "code",
      "source": [
        "# Define the list of stocks\n",
        "tickers = ['2222.SR', 'BRK-B', 'AAPL', 'MSFT', 'GOOG', 'JPM']\n",
        "\n",
        "# Initialize an empty dictionary to store the results\n",
        "results = {}\n",
        "\n",
        "# Loop through each stock\n",
        "for ticker in tickers:\n",
        "    # Get the stock data\n",
        "    stock = yf.Ticker(ticker)\n",
        "\n",
        "    # Get the dividends paid in 2023\n",
        "    dividends_2023 = stock.dividends[utc.localize(pd.Timestamp('2023-01-01')):utc.localize(pd.Timestamp('2023-12-31'))]\n",
        "\n",
        "    # Sum up the dividends\n",
        "    total_dividends = dividends_2023.sum()\n",
        "\n",
        "    # Get the closing price at the last trading day of 2023\n",
        "    last_price = stock.history(period='1y')['Close'][-1]\n",
        "\n",
        "    # Calculate the dividend yield\n",
        "    dividend_yield = (total_dividends / last_price) * 100\n",
        "\n",
        "    # Round the dividend yield to 1 decimal place\n",
        "    dividend_yield = round(dividend_yield, 1)\n",
        "\n",
        "    # Store the results in the dictionary\n",
        "    results[ticker] = dividend_yield\n",
        "\n",
        "# Find the maximum dividend yield\n",
        "max_dividend_yield = max(results.values())\n",
        "max_dividend_stock = [k for k, v in results.items() if v == max_dividend_yield][0]\n",
        "\n",
        "# Print the result\n",
        "print(f\"The maximum dividend yield is {max_dividend_yield}%. for {max_dividend_stock}\")"
      ],
      "metadata": {
        "colab": {
          "base_uri": "https://localhost:8080/"
        },
        "id": "fJBdqP3tg4t6",
        "outputId": "032c9a39-ca87-4395-bade-35351f3b0b96"
      },
      "execution_count": 9,
      "outputs": [
        {
          "output_type": "stream",
          "name": "stdout",
          "text": [
            "The maximum dividend yield is 3.0%. for 2222.SR\n"
          ]
        }
      ]
    },
    {
      "cell_type": "markdown",
      "source": [
        "Question 6. [Exploratory] Investigate new metrics\n",
        "Free text answer\n",
        "\n",
        "Download and explore a few additional metrics or time series that might be valuable for your project and write down why (briefly).\n",
        "\n",
        "The most beneficial dataset for a penny stock retail trader from the FRED - Federal Reserve Economic Data available on Nasdaq Data Link would be the NASDAQ Composite Index (NASDAQCOM).\n",
        "\n",
        "The NASDAQ Composite Index tracks the performance of over 3,000 common equities listed on the NASDAQ stock exchange, including many penny stocks. As a penny stock trader, closely monitoring the overall movement of the NASDAQ Composite Index can provide valuable insights into the broader market sentiment and trends that can impact the performance of penny stocks.\n",
        "\n",
        "The NASDAQ Composite Index is a market capitalization-weighted index, meaning it gives more weight to larger, more liquid stocks. However, it still includes a significant number of smaller, lower-priced penny stocks that are often the focus of retail traders. Tracking the NASDAQ Composite Index can help a penny stock trader gauge the overall market conditions and identify potential opportunities or risks for their investments.\n",
        "\n",
        "Additionally, the NASDAQ Composite Index data is updated daily, providing real-time information that is crucial for active penny stock traders to make informed decisions. By closely monitoring the NASDAQ Composite Index, a penny stock trader can better understand the broader market dynamics and adjust their trading strategies accordingly.\n",
        "\n",
        "The key metrics of the NASDAQ Composite Index that would be of most interest to a day trader are:\n",
        "\n",
        "Daily Closing Price:\n",
        "\n",
        "The daily closing price of the NASDAQ Composite Index is a crucial metric for day traders, as it reflects the overall market sentiment and performance at the end of the trading day.\n",
        "Monitoring the daily closing price can help day traders identify trends, support/resistance levels, and make informed trading decisions for their penny stock positions.\n",
        "Intraday Price Movements:\n",
        "\n",
        "In addition to the daily closing price, day traders would closely follow the intraday price movements of the NASDAQ Composite Index.\n",
        "Sudden or significant intraday fluctuations in the index can signal volatility in the broader market, which can impact the performance of penny stocks.\n",
        "Tracking the intraday price action can help day traders time their entries and exits more effectively.\n",
        "52-Week High and Low:\n",
        "\n",
        "The 52-week high and low of the NASDAQ Composite Index provide context on the index's historical performance and can help day traders identify potential support and resistance levels.\n",
        "Monitoring the 52-week range can assist day traders in assessing the overall market sentiment and positioning their penny stock trades accordingly.\n",
        "By closely monitoring these key metrics of the NASDAQ Composite Index, day traders can gain valuable insights into the broader market conditions and make more informed trading decisions for their penny stock portfolios."
      ],
      "metadata": {
        "id": "OBPy9ZKDhGPp"
      }
    },
    {
      "cell_type": "markdown",
      "source": [
        "Question 7. [Exploratory] Time-driven strategy description around earnings releases\n",
        "Free text answer\n",
        "\n",
        "Explore earning dates for the whole month of April - e.g. using YahooFinance earnings calendar (https://finance.yahoo.com/calendar/earnings?from=2024-04-21&to=2024-04-27&day=2024-04-23). Compare with the previous closed earnings (e.g., recent dates with full data https://finance.yahoo.com/calendar/earnings?from=2024-04-07&to=2024-04-13&day=2024-04-08).\n",
        "\n",
        "Describe an analytical strategy/idea (you're not required to implement it) to select a subset companies of interest based on the future events data.\n",
        "\n",
        "To develop an analytical strategy for selecting a subset of companies of interest based on the upcoming earnings calendar data, I would consider the following steps:\n",
        "\n",
        "Analyze the Previous Earnings Period (2024-04-07 to 2024-04-13):\n",
        "\n",
        "Identify the companies that reported earnings during this period and their key financial metrics, such as revenue, earnings per share (EPS), and any notable commentary from management.\n",
        "Assess how the market reacted to these earnings results - did the stock prices rise, fall, or remain relatively unchanged?\n",
        "Look for any trends or patterns in the previous earnings season that could provide insights into the upcoming period.\n",
        "Examine the Upcoming Earnings Period (2024-04-21 to 2024-04-27):\n",
        "\n",
        "Identify the companies scheduled to report earnings during this time frame.\n",
        "Categorize the companies based on factors such as industry, market capitalization, growth profile, and valuation metrics.\n",
        "Prioritize companies that are likely to be of interest to a penny stock day trader, such as those with high volatility, low share prices, and potential for significant price movements.\n",
        "Develop a Selection Criteria:\n",
        "\n",
        "Establish a set of criteria to filter the upcoming earnings companies, such as:\n",
        "Companies with a history of significant price movements around earnings\n",
        "Companies with a market capitalization under a certain threshold (e.g., $1 billion)\n",
        "Companies with a current stock price below a certain level (e.g., $10 per share)\n",
        "Companies with a high degree of analyst coverage and expectations\n",
        "Analyze the Selected Companies:\n",
        "\n",
        "For the subset of companies that meet the selection criteria, conduct a more in-depth analysis, including:\n",
        "Review analyst estimates and any recent revisions to understand market expectations\n",
        "Assess the company's financial health, growth prospects, and potential catalysts\n",
        "Identify any potential risks or uncertainties that could impact the stock price\n",
        "Develop a Trading Strategy:\n",
        "\n",
        "Based on the analysis, determine a trading strategy for the selected companies, such as:\n",
        "Identifying potential entry and exit points based on technical analysis and market sentiment\n",
        "Determining appropriate position sizes and risk management techniques\n",
        "Monitoring the companies' earnings results and any subsequent market reactions\n",
        "By following this analytical approach, a penny stock day trader can systematically identify a subset of companies from the upcoming earnings calendar that align with their investment criteria and develop a well-informed trading strategy."
      ],
      "metadata": {
        "id": "vm2_m1uRhHXR"
      }
    },
    {
      "cell_type": "code",
      "source": [],
      "metadata": {
        "id": "dlAW4f7whMqQ"
      },
      "execution_count": null,
      "outputs": []
    }
  ]
}